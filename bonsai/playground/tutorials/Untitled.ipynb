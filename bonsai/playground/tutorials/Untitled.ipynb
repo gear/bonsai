{
 "cells": [
  {
   "cell_type": "code",
   "execution_count": 1,
   "id": "23e669e2-be13-4086-a810-41898d8ed41f",
   "metadata": {},
   "outputs": [],
   "source": [
    "import os\n",
    "import math\n",
    "import numpy as np\n",
    "import time\n",
    "\n",
    "import matplotlib.pyplot as plt\n",
    "%matplotlib inline\n",
    "from matplotlib.colors import to_rgba\n",
    "import seaborn as sns\n",
    "sns.set()\n",
    "\n",
    "from tqdm.auto import tqdm"
   ]
  },
  {
   "cell_type": "code",
   "execution_count": 2,
   "id": "675516c4-0336-41ef-a41e-ad608c61fa71",
   "metadata": {},
   "outputs": [
    {
     "name": "stdout",
     "output_type": "stream",
     "text": [
      "Using jax 0.7.0\n"
     ]
    }
   ],
   "source": [
    "import jax\n",
    "import jax.numpy as jnp\n",
    "print(\"Using jax\", jax.__version__)"
   ]
  },
  {
   "cell_type": "code",
   "execution_count": 3,
   "id": "0b7905e8-6862-4893-a1f4-5beb37b93c69",
   "metadata": {},
   "outputs": [],
   "source": [
    "a = jnp.zeros((2, 5), dtype=jnp.float32)"
   ]
  },
  {
   "cell_type": "code",
   "execution_count": 4,
   "id": "b280ee99-9d5f-4a5c-b1dc-b8b95643ba60",
   "metadata": {},
   "outputs": [
    {
     "data": {
      "text/plain": [
       "Array([[0., 0., 0., 0., 0.],\n",
       "       [0., 0., 0., 0., 0.]], dtype=float32)"
      ]
     },
     "execution_count": 4,
     "metadata": {},
     "output_type": "execute_result"
    }
   ],
   "source": [
    "a"
   ]
  },
  {
   "cell_type": "code",
   "execution_count": 5,
   "id": "03df1e06-4c27-4dac-9f2a-523bb722cd65",
   "metadata": {},
   "outputs": [],
   "source": [
    "b = jnp.arange(6)"
   ]
  },
  {
   "cell_type": "code",
   "execution_count": 6,
   "id": "db6a6b4e-1a3b-497c-b4ee-e942abd8f4b9",
   "metadata": {},
   "outputs": [
    {
     "data": {
      "text/plain": [
       "Array([0, 1, 2, 3, 4, 5], dtype=int32)"
      ]
     },
     "execution_count": 6,
     "metadata": {},
     "output_type": "execute_result"
    }
   ],
   "source": [
    "b"
   ]
  },
  {
   "cell_type": "markdown",
   "id": "74f324b9-ce48-47de-8977-3ffb12d246c5",
   "metadata": {},
   "source": [
    "Device array"
   ]
  },
  {
   "cell_type": "code",
   "execution_count": 7,
   "id": "9973b046-5281-4140-adb4-6c6a58eca38c",
   "metadata": {},
   "outputs": [
    {
     "data": {
      "text/plain": [
       "jaxlib._jax.ArrayImpl"
      ]
     },
     "execution_count": 7,
     "metadata": {},
     "output_type": "execute_result"
    }
   ],
   "source": [
    "b.__class__"
   ]
  },
  {
   "cell_type": "code",
   "execution_count": 9,
   "id": "1470dd46-b8dc-477d-bd10-f6cccf2b174a",
   "metadata": {},
   "outputs": [
    {
     "data": {
      "text/plain": [
       "CpuDevice(id=0)"
      ]
     },
     "execution_count": 9,
     "metadata": {},
     "output_type": "execute_result"
    }
   ],
   "source": [
    "b.device"
   ]
  },
  {
   "cell_type": "markdown",
   "id": "efe44324-fe48-4092-a80a-aa17e0b6aadd",
   "metadata": {},
   "source": [
    "change device for array"
   ]
  },
  {
   "cell_type": "code",
   "execution_count": 10,
   "id": "49ef25f7-fd11-46f5-8d20-fe193de2d9f7",
   "metadata": {},
   "outputs": [
    {
     "data": {
      "text/plain": [
       "array([0, 1, 2, 3, 4, 5], dtype=int32)"
      ]
     },
     "execution_count": 10,
     "metadata": {},
     "output_type": "execute_result"
    }
   ],
   "source": [
    "jax.device_get(b)"
   ]
  },
  {
   "cell_type": "code",
   "execution_count": 12,
   "id": "baada6d8-9e63-41bf-85da-8998dbd40197",
   "metadata": {},
   "outputs": [
    {
     "data": {
      "text/plain": [
       "Array([0, 1, 2, 3, 4, 5], dtype=int32)"
      ]
     },
     "execution_count": 12,
     "metadata": {},
     "output_type": "execute_result"
    }
   ],
   "source": [
    "jax.device_put(b)"
   ]
  },
  {
   "cell_type": "code",
   "execution_count": 13,
   "id": "e9f94c41-8f2b-4b45-9934-61d722b2b2d0",
   "metadata": {},
   "outputs": [
    {
     "data": {
      "text/plain": [
       "jaxlib._jax.ArrayImpl"
      ]
     },
     "execution_count": 13,
     "metadata": {},
     "output_type": "execute_result"
    }
   ],
   "source": [
    "_.__class__"
   ]
  },
  {
   "cell_type": "code",
   "execution_count": 14,
   "id": "2ed4907f-500f-4681-adcf-ab407ef3d686",
   "metadata": {},
   "outputs": [
    {
     "name": "stdout",
     "output_type": "stream",
     "text": [
      "Transfer ``x`` to host.\n",
      "\n",
      "If ``x`` is a pytree, then the individual buffers are copied in parallel.\n",
      "\n",
      "Args:\n",
      "  x: An array, scalar, Array or (nested) standard Python container thereof\n",
      "    representing the array to be transferred to host.\n",
      "\n",
      "Returns:\n",
      "  An array or (nested) Python container thereof representing the\n",
      "  value of ``x``.\n",
      "\n",
      "Examples:\n",
      "  Passing a Array:\n",
      "\n",
      "  >>> import jax\n",
      "  >>> x = jax.numpy.array([1., 2., 3.])\n",
      "  >>> jax.device_get(x)\n",
      "  array([1., 2., 3.], dtype=float32)\n",
      "\n",
      "  Passing a scalar (has no effect):\n",
      "\n",
      "  >>> jax.device_get(1)\n",
      "  1\n",
      "\n",
      "See Also:\n",
      "  - device_put\n",
      "  - device_put_sharded\n",
      "  - device_put_replicated\n",
      "\n"
     ]
    }
   ],
   "source": [
    "print(jax.device_get.__doc__)"
   ]
  },
  {
   "cell_type": "code",
   "execution_count": 15,
   "id": "48b7e1c4-8b18-4328-a0a2-f1dc87282f8c",
   "metadata": {},
   "outputs": [
    {
     "data": {
      "text/plain": [
       "[CpuDevice(id=0)]"
      ]
     },
     "execution_count": 15,
     "metadata": {},
     "output_type": "execute_result"
    }
   ],
   "source": [
    "jax.devices()"
   ]
  },
  {
   "cell_type": "code",
   "execution_count": null,
   "id": "e7cb3dfc-da71-4444-b29b-e2a7cbda408d",
   "metadata": {},
   "outputs": [],
   "source": []
  }
 ],
 "metadata": {
  "kernelspec": {
   "display_name": "Python 3 (ipykernel)",
   "language": "python",
   "name": "python3"
  },
  "language_info": {
   "codemirror_mode": {
    "name": "ipython",
    "version": 3
   },
   "file_extension": ".py",
   "mimetype": "text/x-python",
   "name": "python",
   "nbconvert_exporter": "python",
   "pygments_lexer": "ipython3",
   "version": "3.13.1"
  }
 },
 "nbformat": 4,
 "nbformat_minor": 5
}
